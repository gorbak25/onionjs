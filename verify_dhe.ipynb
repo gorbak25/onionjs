{
 "cells": [
  {
   "cell_type": "code",
   "execution_count": 66,
   "metadata": {},
   "outputs": [],
   "source": [
    "import gmpy2\n",
    "from gmpy2 import *\n",
    "import base64\n",
    "import binascii"
   ]
  },
  {
   "cell_type": "code",
   "execution_count": 67,
   "metadata": {
    "collapsed": true
   },
   "outputs": [],
   "source": [
    "def parseb64(inp):\n",
    "    return mpz(int(b\"0x\"+binascii.hexlify(base64.b64decode(inp)), 16))"
   ]
  },
  {
   "cell_type": "code",
   "execution_count": 68,
   "metadata": {},
   "outputs": [],
   "source": [
    "p = parseb64(\"1n3kQMu73Bk21pPTSv0K1QyE0jmkX1ILuIF0y5i86VGEn5EuY5xy+xO0tNcXfhbVWsF5ukILKin+MkpGemNegf9ZATd77dz9MxaKRhqtO3La6IYAeARbB6fbynh0CH0VEOqfzJ3dMwUH3WLbiK6qdH3g9NbivWiw5zk+DyQhjrM=\")\n",
    "g = parseb64(\"Ag==\")\n",
    "s_pub_key = parseb64(\"T4qBdMhBQ955NLZnEeSoQTBA77ecIQditgjyLc5nfNHs0GXI9q+HeOH1cdF9kb1moGxXe64F+4vvYH9sbpds9I2X7HBAuiS13mtcvSWXFAW0XOuj9VhEQLBamC+ceriZTMtOrAbMr+BERHk3CTzdnehB+WlbGE7IMGkx5Ug44cM=\")\n",
    "c_priv_key = parseb64(\"a3Cts3PQr1nlnTSsKkrGJa78bo2gEAleDau2AcfrU51Zq3b+vf2So8hnA39tMQLrxOxe9+ANoNJSB2/kdzvXJnLRjJindJ/T/Gr3dQapKXazRevl64EGV/ru0Ry5+XyGQrHWvf1hmCVR8Pxhxe1DuOuHHOV+iISgRkL1t52vHeE=\")\n",
    "premaster = parseb64(\"ovt7Pdxy2mVRETO7AZlmg1HVYdEW6djgosy4tuPwt4XfUtfcNj5fL2hS84cMT4fgWLqxds+41gYpRVLjzpODDUBefq3u5mfhzHeSFp0b6bPDHJKmGZbCGeFj0Cak51Y9YPU3CaYxRg4fwWrJOks51LEzt5upIpcWfyc/QRRaUUQ=\")\n",
    "c_pub_key = parseb64(\"X+O5kp1r3wX0s+/pT45pDNEJTXtMqLbvXJhFjPddydDMZLGnSjf48oQMHu0uDkJTVLnxH8FRvIAjsJ7i7CEQLbwi7aLYkGD3mVFdzFx7c/3saXevfbw5TE+++77aOtgbK4AF7W77oQTb/LtoT6y1WKPnYN2JQTvtCi4+u3u9754=\")"
   ]
  },
  {
   "cell_type": "code",
   "execution_count": 69,
   "metadata": {},
   "outputs": [
    {
     "name": "stdout",
     "output_type": "stream",
     "text": [
      "SHARED SECRET OK:\t True\n",
      "CLIENT PUBLIC KEY OK:\t True\n"
     ]
    }
   ],
   "source": [
    "print(\"SHARED SECRET OK:\\t\", powmod(s_pub_key,c_priv_key, p) == premaster)\n",
    "print(\"CLIENT PUBLIC KEY OK:\\t\", powmod(g, c_priv_key, p) == c_pub_key)"
   ]
  },
  {
   "cell_type": "code",
   "execution_count": 70,
   "metadata": {
    "collapsed": true
   },
   "outputs": [],
   "source": [
    "#without leading key_len\n",
    "client_key_exchange_content = parseb64(\"X+O5kp1r3wX0s+/pT45pDNEJTXtMqLbvXJhFjPddydDMZLGnSjf48oQMHu0uDkJTVLnxH8FRvIAjsJ7i7CEQLbwi7aLYkGD3mVFdzFx7c/3saXevfbw5TE+++77aOtgbK4AF7W77oQTb/LtoT6y1WKPnYN2JQTvtCi4+u3u9754=\")"
   ]
  },
  {
   "cell_type": "code",
   "execution_count": 71,
   "metadata": {},
   "outputs": [
    {
     "name": "stdout",
     "output_type": "stream",
     "text": [
      "TLS CLIENT KEY EXCHANGE OK : True\n"
     ]
    }
   ],
   "source": [
    "print(\"TLS CLIENT KEY EXCHANGE OK :\", client_key_exchange_content == c_pub_key)"
   ]
  },
  {
   "cell_type": "code",
   "execution_count": null,
   "metadata": {},
   "outputs": [],
   "source": []
  },
  {
   "cell_type": "code",
   "execution_count": null,
   "metadata": {
    "collapsed": true
   },
   "outputs": [],
   "source": []
  }
 ],
 "metadata": {
  "kernelspec": {
   "display_name": "Python 3",
   "language": "python",
   "name": "python3"
  },
  "language_info": {
   "codemirror_mode": {
    "name": "ipython",
    "version": 3
   },
   "file_extension": ".py",
   "mimetype": "text/x-python",
   "name": "python",
   "nbconvert_exporter": "python",
   "pygments_lexer": "ipython3",
   "version": "3.6.2"
  }
 },
 "nbformat": 4,
 "nbformat_minor": 2
}
